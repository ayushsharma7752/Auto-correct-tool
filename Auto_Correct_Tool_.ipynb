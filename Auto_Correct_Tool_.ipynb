{
  "nbformat": 4,
  "nbformat_minor": 0,
  "metadata": {
    "colab": {
      "provenance": [],
      "authorship_tag": "ABX9TyMogcTU8U98m4WnxMhhFHiz",
      "include_colab_link": true
    },
    "kernelspec": {
      "name": "python3",
      "display_name": "Python 3"
    },
    "language_info": {
      "name": "python"
    }
  },
  "cells": [
    {
      "cell_type": "markdown",
      "metadata": {
        "id": "view-in-github",
        "colab_type": "text"
      },
      "source": [
        "<a href=\"https://colab.research.google.com/github/ayushsharma7752/Auto-correct-tool/blob/main/Auto_Correct_Tool_.ipynb\" target=\"_parent\"><img src=\"https://colab.research.google.com/assets/colab-badge.svg\" alt=\"Open In Colab\"/></a>"
      ]
    },
    {
      "cell_type": "code",
      "source": [
        "!pip install matplotlib-venn"
      ],
      "metadata": {
        "id": "wU_N9tMABDzZ"
      },
      "execution_count": null,
      "outputs": []
    },
    {
      "cell_type": "code",
      "execution_count": null,
      "metadata": {
        "colab": {
          "base_uri": "https://localhost:8080/"
        },
        "id": "mfvN2UCb8x3Q",
        "outputId": "565dc82e-5436-4a5e-8673-d9705bdea074"
      },
      "outputs": [
        {
          "output_type": "stream",
          "name": "stdout",
          "text": [
            "Did you mean 'banana'?\n"
          ]
        }
      ],
      "source": [
        "from difflib import get_close_matches\n",
        "\n",
        "def auto_correct(word, word_list):\n",
        "    close_matches = get_close_matches(word, word_list, n=1)\n",
        "\n",
        "    if close_matches:\n",
        "        return close_matches[0]\n",
        "    else:\n",
        "        return None\n",
        "\n",
        "# Example usage\n",
        "words = ['apple', 'banana', 'cherry', 'date', 'elderberry']\n",
        "\n",
        "input_word = 'bannana'  # Misspelled word\n",
        "\n",
        "suggestion = auto_correct(input_word, words)\n",
        "\n",
        "if suggestion:\n",
        "    print(f\"Did you mean '{suggestion}'?\")\n",
        "else:\n",
        "    print(\"No suggestion found.\")"
      ]
    },
    {
      "cell_type": "code",
      "source": [],
      "metadata": {
        "id": "5flYpJ_KBKMk"
      },
      "execution_count": null,
      "outputs": []
    }
  ]
}